{
 "cells": [
  {
   "cell_type": "markdown",
   "metadata": {},
   "source": [
    "---\n",
    "## Training\n",
    "\n",
    "**Training the deep learning model for mask detection on faces**"
   ]
  },
  {
   "cell_type": "code",
   "execution_count": 1,
   "metadata": {},
   "outputs": [
    {
     "name": "stderr",
     "output_type": "stream",
     "text": [
      "Using TensorFlow backend.\n"
     ]
    }
   ],
   "source": [
    "from keras.preprocessing import image\n",
    "from keras.models import Sequential\n",
    "from keras.layers import Activation, Dropout, Flatten, Dense, Conv2D, MaxPooling2D"
   ]
  },
  {
   "cell_type": "markdown",
   "metadata": {},
   "source": [
    "---\n",
    "### Preparing input data\n",
    "\n",
    "**Dataset used**\n",
    "\n",
    "https://www.kaggle.com/omkargurav/face-mask-dataset\n",
    "\n",
    "**Data directory structure**\n",
    "\n",
    "The dataset directory is re-structured in the following format:\n",
    "\n",
    "* data  \n",
    "  * train\n",
    "    * 1_without_mask -> contains 2828 images\n",
    "    * 2_with_mask -> contains 2725 images\n",
    "  * test\n",
    "    * 1_without_mask -> contains 1000 images\n",
    "    * 2_with_mask -> contains 1000 images\n",
    "\n",
    "**Steps**\n",
    "\n",
    "* The images are resized and are fed into the deep learning model in batches\n",
    "* Data Augmentation: Images are rotated, cropped, zoomed, flipped etc. randomly\n",
    "* _train_set_gen_ is the data flow for training the model\n",
    "* _test_set_gen_ is the data flow for validating the model"
   ]
  },
  {
   "cell_type": "code",
   "execution_count": 2,
   "metadata": {},
   "outputs": [],
   "source": [
    "IMAGE_SIZE = (128,128,3)\n",
    "BATCH_SIZE = 32"
   ]
  },
  {
   "cell_type": "code",
   "execution_count": 3,
   "metadata": {},
   "outputs": [],
   "source": [
    "im_generator = image.ImageDataGenerator(rotation_range=30,\n",
    "                                 width_shift_range=0.15,\n",
    "                                 height_shift_range=0.15,\n",
    "                                 shear_range=0.1,\n",
    "                                 zoom_range=0.1,\n",
    "                                 horizontal_flip=True,\n",
    "                                 fill_mode='nearest',\n",
    "                                 rescale=1/255)"
   ]
  },
  {
   "cell_type": "code",
   "execution_count": 4,
   "metadata": {},
   "outputs": [
    {
     "name": "stdout",
     "output_type": "stream",
     "text": [
      "Found 5553 images belonging to 2 classes.\n",
      "Found 2000 images belonging to 2 classes.\n"
     ]
    }
   ],
   "source": [
    "train_set_gen = im_generator.flow_from_directory('data/train',\n",
    "                                               target_size=IMAGE_SIZE[:2],\n",
    "                                               batch_size=BATCH_SIZE,\n",
    "                                               class_mode='binary')\n",
    "\n",
    "test_set_gen = im_generator.flow_from_directory('data/test',\n",
    "                                                target_size=IMAGE_SIZE[:2],\n",
    "                                                batch_size=BATCH_SIZE,\n",
    "                                                class_mode='binary')"
   ]
  },
  {
   "cell_type": "markdown",
   "metadata": {},
   "source": [
    "#### Class indices\n",
    "\n",
    "without_mask corresponds to class 0, with_mask corresponds to class 1"
   ]
  },
  {
   "cell_type": "code",
   "execution_count": 5,
   "metadata": {},
   "outputs": [
    {
     "data": {
      "text/plain": [
       "{'1_without_mask': 0, '2_with_mask': 1}"
      ]
     },
     "execution_count": 5,
     "metadata": {},
     "output_type": "execute_result"
    }
   ],
   "source": [
    "test_set_gen.class_indices"
   ]
  },
  {
   "cell_type": "markdown",
   "metadata": {},
   "source": [
    "---\n",
    "### Building and training the model\n",
    "\n",
    "The mask detection model's output is a single number between 0 and 1 representing _probability of a face being classified as 'with mask'_"
   ]
  },
  {
   "cell_type": "code",
   "execution_count": 6,
   "metadata": {},
   "outputs": [
    {
     "name": "stdout",
     "output_type": "stream",
     "text": [
      "Model: \"sequential_1\"\n",
      "_________________________________________________________________\n",
      "Layer (type)                 Output Shape              Param #   \n",
      "=================================================================\n",
      "conv2d_1 (Conv2D)            (None, 126, 126, 8)       224       \n",
      "_________________________________________________________________\n",
      "max_pooling2d_1 (MaxPooling2 (None, 63, 63, 8)         0         \n",
      "_________________________________________________________________\n",
      "conv2d_2 (Conv2D)            (None, 59, 59, 32)        2336      \n",
      "_________________________________________________________________\n",
      "max_pooling2d_2 (MaxPooling2 (None, 29, 29, 32)        0         \n",
      "_________________________________________________________________\n",
      "conv2d_3 (Conv2D)            (None, 25, 25, 64)        18496     \n",
      "_________________________________________________________________\n",
      "max_pooling2d_3 (MaxPooling2 (None, 12, 12, 64)        0         \n",
      "_________________________________________________________________\n",
      "flatten_1 (Flatten)          (None, 9216)              0         \n",
      "_________________________________________________________________\n",
      "dense_1 (Dense)              (None, 128)               1179776   \n",
      "_________________________________________________________________\n",
      "activation_1 (Activation)    (None, 128)               0         \n",
      "_________________________________________________________________\n",
      "dropout_1 (Dropout)          (None, 128)               0         \n",
      "_________________________________________________________________\n",
      "dense_2 (Dense)              (None, 1)                 129       \n",
      "_________________________________________________________________\n",
      "activation_2 (Activation)    (None, 1)                 0         \n",
      "=================================================================\n",
      "Total params: 1,200,961\n",
      "Trainable params: 1,200,961\n",
      "Non-trainable params: 0\n",
      "_________________________________________________________________\n"
     ]
    }
   ],
   "source": [
    "model = Sequential()\n",
    "\n",
    "model.add(Conv2D(filters=8, kernel_size=(3,3), input_shape=IMAGE_SIZE, activation='relu'))\n",
    "model.add(MaxPooling2D(pool_size=(2,2)))\n",
    "\n",
    "model.add(Conv2D(filters=32, kernel_size=(3,3), dilation_rate=(2,2), input_shape=IMAGE_SIZE, activation='relu'))\n",
    "model.add(MaxPooling2D(pool_size=(2,2)))\n",
    "\n",
    "model.add(Conv2D(filters=64, kernel_size=(3,3), dilation_rate=(2,2), input_shape=IMAGE_SIZE, activation='relu'))\n",
    "model.add(MaxPooling2D(pool_size=(2,2)))\n",
    "\n",
    "model.add(Flatten())\n",
    "\n",
    "model.add(Dense(128))\n",
    "model.add(Activation('relu'))\n",
    "\n",
    "model.add(Dropout(0.5))\n",
    "\n",
    "# Last layer, it's binary, 0=without_mask , 1=with_mask\n",
    "model.add(Dense(1))\n",
    "model.add(Activation('sigmoid'))\n",
    "\n",
    "model.compile(loss='binary_crossentropy',\n",
    "              optimizer='adam',\n",
    "              metrics=['accuracy'])\n",
    "\n",
    "model.summary()"
   ]
  },
  {
   "cell_type": "code",
   "execution_count": 7,
   "metadata": {
    "scrolled": true
   },
   "outputs": [
    {
     "name": "stdout",
     "output_type": "stream",
     "text": [
      "Epoch 1/20\n",
      "100/100 [==============================] - 71s 713ms/step - loss: 0.5040 - accuracy: 0.7594 - val_loss: 0.5405 - val_accuracy: 0.8104\n",
      "Epoch 2/20\n",
      " 99/100 [============================>.] - ETA: 0s - loss: 0.3499 - accuracy: 0.8497"
     ]
    },
    {
     "name": "stderr",
     "output_type": "stream",
     "text": [
      "C:\\Users\\Dharmveer\\Anaconda3\\envs\\computer_vision\\lib\\site-packages\\PIL\\Image.py:952: UserWarning: Palette images with Transparency expressed in bytes should be converted to RGBA images\n",
      "  \"Palette images with Transparency expressed in bytes should be \"\n"
     ]
    },
    {
     "name": "stdout",
     "output_type": "stream",
     "text": [
      "100/100 [==============================] - 71s 714ms/step - loss: 0.3498 - accuracy: 0.8499 - val_loss: 0.4800 - val_accuracy: 0.7135\n",
      "Epoch 3/20\n",
      "100/100 [==============================] - 66s 663ms/step - loss: 0.2996 - accuracy: 0.8747 - val_loss: 0.6205 - val_accuracy: 0.8326\n",
      "Epoch 4/20\n",
      "100/100 [==============================] - 66s 658ms/step - loss: 0.2566 - accuracy: 0.9016 - val_loss: 0.3472 - val_accuracy: 0.8000\n",
      "Epoch 5/20\n",
      "100/100 [==============================] - 69s 690ms/step - loss: 0.2411 - accuracy: 0.9083 - val_loss: 0.3709 - val_accuracy: 0.7850\n",
      "Epoch 6/20\n",
      "100/100 [==============================] - 70s 702ms/step - loss: 0.2284 - accuracy: 0.9134 - val_loss: 0.4014 - val_accuracy: 0.8354\n",
      "Epoch 7/20\n",
      "100/100 [==============================] - 78s 778ms/step - loss: 0.2181 - accuracy: 0.9177 - val_loss: 0.2567 - val_accuracy: 0.8422\n",
      "Epoch 8/20\n",
      "100/100 [==============================] - 69s 686ms/step - loss: 0.2225 - accuracy: 0.9159 - val_loss: 0.2257 - val_accuracy: 0.8719\n",
      "Epoch 9/20\n",
      "100/100 [==============================] - 70s 704ms/step - loss: 0.1954 - accuracy: 0.9246 - val_loss: 0.0715 - val_accuracy: 0.8877\n",
      "Epoch 10/20\n",
      "100/100 [==============================] - 65s 649ms/step - loss: 0.2124 - accuracy: 0.9225 - val_loss: 0.4054 - val_accuracy: 0.8646\n",
      "Epoch 11/20\n",
      "100/100 [==============================] - 65s 648ms/step - loss: 0.1959 - accuracy: 0.9275 - val_loss: 0.2625 - val_accuracy: 0.8633\n",
      "Epoch 12/20\n",
      "100/100 [==============================] - 66s 660ms/step - loss: 0.1905 - accuracy: 0.9331 - val_loss: 0.3063 - val_accuracy: 0.8354\n",
      "Epoch 13/20\n",
      "100/100 [==============================] - 65s 651ms/step - loss: 0.1650 - accuracy: 0.9347 - val_loss: 0.6132 - val_accuracy: 0.7871\n",
      "Epoch 14/20\n",
      "100/100 [==============================] - 65s 654ms/step - loss: 0.1965 - accuracy: 0.9322 - val_loss: 0.3068 - val_accuracy: 0.8365\n",
      "Epoch 15/20\n",
      "100/100 [==============================] - 65s 646ms/step - loss: 0.1848 - accuracy: 0.9341 - val_loss: 0.3505 - val_accuracy: 0.8739\n",
      "Epoch 16/20\n",
      "100/100 [==============================] - 72s 718ms/step - loss: 0.1602 - accuracy: 0.9447 - val_loss: 0.4444 - val_accuracy: 0.8562\n",
      "Epoch 17/20\n",
      "100/100 [==============================] - 69s 689ms/step - loss: 0.1558 - accuracy: 0.9441 - val_loss: 0.2485 - val_accuracy: 0.8835\n",
      "Epoch 18/20\n",
      "100/100 [==============================] - 76s 757ms/step - loss: 0.1592 - accuracy: 0.9381 - val_loss: 0.4158 - val_accuracy: 0.8781\n",
      "Epoch 19/20\n",
      "100/100 [==============================] - 73s 727ms/step - loss: 0.1625 - accuracy: 0.9431 - val_loss: 0.2128 - val_accuracy: 0.9004\n",
      "Epoch 20/20\n",
      "100/100 [==============================] - 72s 718ms/step - loss: 0.1581 - accuracy: 0.9428 - val_loss: 0.3139 - val_accuracy: 0.9042\n"
     ]
    }
   ],
   "source": [
    "results = model.fit_generator(train_set_gen,\n",
    "                              epochs=20,\n",
    "                              steps_per_epoch=100,\n",
    "                              validation_data=test_set_gen,\n",
    "                              validation_steps=30)"
   ]
  },
  {
   "cell_type": "markdown",
   "metadata": {},
   "source": [
    "### Saving the model"
   ]
  },
  {
   "cell_type": "code",
   "execution_count": 8,
   "metadata": {},
   "outputs": [],
   "source": [
    "model.save(\"mask_cnn.h5\")"
   ]
  },
  {
   "cell_type": "markdown",
   "metadata": {},
   "source": [
    "---"
   ]
  }
 ],
 "metadata": {
  "kernelspec": {
   "display_name": "Python 3",
   "language": "python",
   "name": "python3"
  },
  "language_info": {
   "codemirror_mode": {
    "name": "ipython",
    "version": 3
   },
   "file_extension": ".py",
   "mimetype": "text/x-python",
   "name": "python",
   "nbconvert_exporter": "python",
   "pygments_lexer": "ipython3",
   "version": "3.6.12"
  }
 },
 "nbformat": 4,
 "nbformat_minor": 4
}
